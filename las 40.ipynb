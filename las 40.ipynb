{
 "cells": [
  {
   "cell_type": "code",
   "execution_count": 2,
   "metadata": {},
   "outputs": [],
   "source": [
    "Read(\"CliqueBehavior.g\");"
   ]
  },
  {
   "cell_type": "code",
   "execution_count": 3,
   "metadata": {},
   "outputs": [
    {
     "data": {
      "text/plain": [
       "function( L, f ) ... end"
      ]
     },
     "execution_count": 3,
     "metadata": {
      "text/plain": ""
     },
     "output_type": "execute_result"
    }
   ],
   "source": [
    "ListRP:=function(L,f)# like \"List(L,f)\" but reports progress.  \n",
    "    local x,i,L1;\n",
    "    i:=0;L1:=[];\n",
    "    for x in L do\n",
    "      i:=i+1;\n",
    "      Info(YAGSInfo.InfoClass,1,\"i:=\",i,\"\\n\");\n",
    "      Add(L1,f(x));\n",
    "    od;\n",
    "    return L1;\n",
    "end;"
   ]
  },
  {
   "cell_type": "code",
   "execution_count": 4,
   "metadata": {},
   "outputs": [],
   "source": [
    "Read(\"40-9-vertices.g\");"
   ]
  },
  {
   "cell_type": "code",
   "execution_count": null,
   "metadata": {},
   "outputs": [
    {
     "name": "stdout",
     "output_type": "stream",
     "text": [
      "#I i:=1\n",
      "#I No more tests available.\n",
      "#I i:=2\n",
      "#I No more tests available.\n",
      "#I i:=3\n",
      "#I P(K^2(g)) retracts to ClockworkGraph([[0,1],[1],[1,2]],(1,2)).\n",
      "#I i:=4\n",
      "#I P(K^2(g)) retracts to ClockworkGraph([[0,1],[1,2],[0,1,2]],(1,2)).\n",
      "#I i:=5\n",
      "#I P(K^2(g)) retracts to ClockworkGraph([[0,1],[1],[1,2]],(1,2)).\n",
      "#I i:=6\n",
      "\r"
     ]
    }
   ],
   "source": [
    "ListRP(L, g->IsKConvergent(g,500));"
   ]
  },
  {
   "cell_type": "code",
   "execution_count": null,
   "metadata": {},
   "outputs": [],
   "source": []
  }
 ],
 "metadata": {
  "kernelspec": {
   "display_name": "GAP 4",
   "language": "gap",
   "name": "gap-4"
  },
  "language_info": {
   "codemirror_mode": "gap",
   "file_extension": ".g",
   "mimetype": "text/x-gap",
   "name": "GAP 4",
   "nbconvert_exporter": "",
   "pygments_lexer": "gap",
   "version": "4.11.0"
  }
 },
 "nbformat": 4,
 "nbformat_minor": 2
}
